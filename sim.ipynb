{
 "cells": [
  {
   "cell_type": "code",
   "id": "initial_id",
   "metadata": {
    "collapsed": true,
    "ExecuteTime": {
     "end_time": "2025-03-13T21:56:54.885417Z",
     "start_time": "2025-03-13T21:56:54.443361Z"
    }
   },
   "source": [
    "import gymnasium as gym\n",
    "import cv2\n",
    "\n",
    "env = gym.make(\"Pendulum-v1\", render_mode=\"rgb_array\", g=9.81)\n",
    "observation, info = env.reset(seed=42)\n",
    "\n",
    "for _ in range(10):  \n",
    "    action = env.action_space.sample()\n",
    "    observation, reward, terminated, truncated, info = env.step(action)\n",
    "\n",
    "    frame = env.render()\n",
    "    cv2.imshow(\"Pendulum Simulation\", cv2.cvtColor(frame, cv2.COLOR_RGB2BGR))\n",
    "\n",
    "    if cv2.waitKey(10) & 0xFF == ord('q'):  # Press 'q' to quit\n",
    "        break\n",
    "\n",
    "    if terminated or truncated:\n",
    "        observation, info = env.reset()\n",
    "\n",
    "env.close()\n",
    "cv2.destroyAllWindows()\n"
   ],
   "outputs": [],
   "execution_count": 19
  },
  {
   "metadata": {
    "ExecuteTime": {
     "end_time": "2025-03-13T21:56:54.894358Z",
     "start_time": "2025-03-13T21:56:54.889410Z"
    }
   },
   "cell_type": "code",
   "source": [
    "import numpy as np\n",
    "import matplotlib.pyplot as plt\n",
    "from matplotlib.animation import FuncAnimation\n",
    "\n",
    "# Motor parameters\n",
    "kt = 0.042       # Torque constant [N.m/A]\n",
    "km = 0.042       # Back-emf constant [V/(rad/s)]\n",
    "Rm = 8.4         # Terminal resistance [Ohm]\n",
    "Jm = 4.0e-6      # Rotor inertia [kg.m²]\n",
    "Jh = 0.6e-6      # Hub inertia [kg.m²]\n",
    "\n",
    "# Rotary arm\n",
    "mr = 0.095       # Mass [kg]\n",
    "Lr = 0.085        # Length [m]\n",
    "\n",
    "# Pendulum link\n",
    "mp = 0.024       # Mass [kg]\n",
    "Lp = 0.129        # Length [m]\n",
    "\n",
    "# Gravity\n",
    "g = 9.81         # [m/s²]\n",
    "\n",
    "# Derived parameters\n",
    "I_arm = Jm + Jh + (1/3) * mr * Lr**2  # Total arm inertia"
   ],
   "id": "81a163dfa9c5a009",
   "outputs": [],
   "execution_count": 20
  },
  {
   "metadata": {
    "ExecuteTime": {
     "end_time": "2025-03-13T21:56:54.911620Z",
     "start_time": "2025-03-13T21:56:54.908345Z"
    }
   },
   "cell_type": "code",
   "source": [
    "def motor_torque(V, theta_dot):\n",
    "    return (kt / Rm) * V - (kt * km / Rm) * theta_dot"
   ],
   "id": "89ac7ae5149146d9",
   "outputs": [],
   "execution_count": 21
  },
  {
   "metadata": {
    "ExecuteTime": {
     "end_time": "2025-03-13T21:56:54.931377Z",
     "start_time": "2025-03-13T21:56:54.926173Z"
    }
   },
   "cell_type": "code",
   "source": [
    "def compute_accelerations(state, V):\n",
    "    theta, alpha, theta_dot, alpha_dot = state\n",
    "    \n",
    "    # Common terms\n",
    "    sin_a = np.sin(alpha)\n",
    "    cos_a = np.cos(alpha)\n",
    "    sin2_a = sin_a**2\n",
    "    cos2_a = cos_a**2\n",
    "    theta_dot_sq = theta_dot**2\n",
    "    alpha_dot_sq = alpha_dot**2\n",
    "    \n",
    "    # Coefficients\n",
    "    A = I_arm + mp * Lr**2 + (mp * Lp**2 / 4) * sin2_a\n",
    "    B = 0.5 * mp * Lr * Lp * cos_a\n",
    "    C = -0.5 * mp * Lp**2 * sin_a * cos_a * alpha_dot * theta_dot + 0.5 * mp * Lr * Lp * sin_a * alpha_dot_sq\n",
    "    D = B\n",
    "    E = mp * Lp**2 / 3\n",
    "    F_prime = (mp * Lp**2 / 4) * sin_a * cos_a * theta_dot_sq + 0.5 * mp * g * Lp * sin_a\n",
    "    \n",
    "    tau_theta = motor_torque(V, theta_dot)\n",
    "    \n",
    "    # Matrix determinant\n",
    "    det = A * E - B * D\n",
    "    if np.isclose(det, 0):\n",
    "        return (0, 0)  # Handle singular matrix\n",
    "    \n",
    "    # Solve for accelerations\n",
    "    theta_ddot = (E * (C + tau_theta) - B * F_prime) / det\n",
    "    alpha_ddot = (A * F_prime - D * (C + tau_theta)) / det\n",
    "    \n",
    "    return (theta_ddot, alpha_ddot)"
   ],
   "id": "b1c9f1728da90bb",
   "outputs": [],
   "execution_count": 22
  },
  {
   "metadata": {
    "ExecuteTime": {
     "end_time": "2025-03-13T21:56:54.949901Z",
     "start_time": "2025-03-13T21:56:54.945901Z"
    }
   },
   "cell_type": "code",
   "source": [
    "def euler_integration(state, V, dt):\n",
    "    theta, alpha, theta_dot, alpha_dot = state\n",
    "    theta_ddot, alpha_ddot = compute_accelerations(state, V)\n",
    "    \n",
    "    # Update velocities\n",
    "    theta_dot_new = theta_dot + theta_ddot * dt\n",
    "    alpha_dot_new = alpha_dot + alpha_ddot * dt\n",
    "    \n",
    "    # Update positions\n",
    "    theta_new = theta + theta_dot * dt\n",
    "    alpha_new = alpha + alpha_dot * dt\n",
    "    \n",
    "    return (theta_new, alpha_new, theta_dot_new, alpha_dot_new)"
   ],
   "id": "5d4bf69781b5f6ac",
   "outputs": [],
   "execution_count": 23
  },
  {
   "metadata": {
    "ExecuteTime": {
     "end_time": "2025-03-13T21:56:55.028044Z",
     "start_time": "2025-03-13T21:56:54.963015Z"
    }
   },
   "cell_type": "code",
   "source": [
    "# Initial conditions (pendulum down: alpha=0, inverted: alpha=np.pi)\n",
    "initial_state = (0.0, np.pi + 0.1, 0.0, 0.0)  # Slightly perturbed inverted position\n",
    "\n",
    "# Simulation parameters\n",
    "dt = 0.001      # Time step [s]\n",
    "duration = 5.0   # Simulation duration [s]\n",
    "steps = int(duration / dt)\n",
    "time = np.linspace(0, duration, steps)\n",
    "\n",
    "# Input voltage (0 for free motion, or apply a control signal)\n",
    "V = np.zeros(steps)  # No input voltage\n",
    "\n",
    "# Store states\n",
    "theta_vals = np.zeros(steps)\n",
    "alpha_vals = np.zeros(steps)\n",
    "theta_dot_vals = np.zeros(steps)\n",
    "alpha_dot_vals = np.zeros(steps)\n",
    "\n",
    "state = initial_state\n",
    "for i in range(steps):\n",
    "    theta_vals[i], alpha_vals[i], theta_dot_vals[i], alpha_dot_vals[i] = state\n",
    "    state = euler_integration(state, V[i], dt)"
   ],
   "id": "51910b219e315881",
   "outputs": [],
   "execution_count": 24
  },
  {
   "metadata": {
    "ExecuteTime": {
     "end_time": "2025-03-13T21:56:55.119682Z",
     "start_time": "2025-03-13T21:56:55.042400Z"
    }
   },
   "cell_type": "code",
   "source": [
    "import numpy as np\n",
    "import matplotlib.pyplot as plt\n",
    "from matplotlib.animation import FuncAnimation\n",
    "\n",
    "# Set up figure\n",
    "fig, ax = plt.subplots(figsize=(8, 8))\n",
    "ax.set_xlim(-0.2, 0.2)\n",
    "ax.set_ylim(-0.2, 0.2)\n",
    "ax.set_aspect('equal')\n",
    "\n",
    "# Pendulum elements\n",
    "arm, = ax.plot([], [], 'b-', lw=2)\n",
    "pendulum, = ax.plot([], [], 'r-', lw=2)\n",
    "\n",
    "def animate(i):\n",
    "    # Rotary arm position\n",
    "    x_arm = Lr * np.cos(theta_vals[i])\n",
    "    y_arm = Lr * np.sin(theta_vals[i])\n",
    "    arm.set_data([0, x_arm], [0, y_arm])\n",
    "\n",
    "    # Pendulum position\n",
    "    x_pend = x_arm + Lp * np.sin(alpha_vals[i]) * np.cos(theta_vals[i])\n",
    "    y_pend = y_arm + Lp * np.sin(alpha_vals[i]) * np.sin(theta_vals[i])\n",
    "    pendulum.set_data([x_arm, x_pend], [y_arm, y_pend])\n",
    "\n",
    "    return arm, pendulum\n",
    "\n",
    "ani = FuncAnimation(fig, animate, frames=steps, interval=dt*1000, blit=False)\n",
    "plt.show()"
   ],
   "id": "ab609f13d2ab4d84",
   "outputs": [
    {
     "data": {
      "text/plain": [
       "<Figure size 800x800 with 1 Axes>"
      ],
      "image/png": "[encoded data removed]"
     },
     "metadata": {},
     "output_type": "display_data"
    }
   ],
   "execution_count": 25
  }
 ],
 "metadata": {
  "kernelspec": {
   "display_name": "Python 3",
   "language": "python",
   "name": "python3"
  },
  "language_info": {
   "codemirror_mode": {
    "name": "ipython",
    "version": 2
   },
   "file_extension": ".py",
   "mimetype": "text/x-python",
   "name": "python",
   "nbconvert_exporter": "python",
   "pygments_lexer": "ipython2",
   "version": "2.7.6"
  }
 },
 "nbformat": 4,
 "nbformat_minor": 5
}
