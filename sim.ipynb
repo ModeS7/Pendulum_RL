{
 "cells": [
  {
   "cell_type": "code",
   "id": "initial_id",
   "metadata": {
    "collapsed": true,
    "ExecuteTime": {
     "end_time": "2025-03-12T09:43:33.209052Z",
     "start_time": "2025-03-12T09:43:09.784002Z"
    }
   },
   "source": [
    "import gymnasium as gym\n",
    "import cv2\n",
    "\n",
    "env = gym.make(\"Pendulum-v1\", render_mode=\"rgb_array\", g=9.81)\n",
    "observation, info = env.reset(seed=42)\n",
    "\n",
    "for _ in range(1000):  \n",
    "    action = env.action_space.sample()\n",
    "    observation, reward, terminated, truncated, info = env.step(action)\n",
    "\n",
    "    frame = env.render()\n",
    "    cv2.imshow(\"Pendulum Simulation\", cv2.cvtColor(frame, cv2.COLOR_RGB2BGR))\n",
    "\n",
    "    if cv2.waitKey(10) & 0xFF == ord('q'):  # Press 'q' to quit\n",
    "        break\n",
    "\n",
    "    if terminated or truncated:\n",
    "        observation, info = env.reset()\n",
    "\n",
    "env.close()\n",
    "cv2.destroyAllWindows()\n"
   ],
   "outputs": [],
   "execution_count": 3
  }
 ],
 "metadata": {
  "kernelspec": {
   "display_name": "Python 3",
   "language": "python",
   "name": "python3"
  },
  "language_info": {
   "codemirror_mode": {
    "name": "ipython",
    "version": 2
   },
   "file_extension": ".py",
   "mimetype": "text/x-python",
   "name": "python",
   "nbconvert_exporter": "python",
   "pygments_lexer": "ipython2",
   "version": "2.7.6"
  }
 },
 "nbformat": 4,
 "nbformat_minor": 5
}
